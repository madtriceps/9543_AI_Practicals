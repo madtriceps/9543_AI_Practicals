{
 "cells": [
  {
   "cell_type": "code",
   "execution_count": 1,
   "metadata": {},
   "outputs": [
    {
     "name": "stdout",
     "output_type": "stream",
     "text": [
      "(3, 3, 'left', 0, 0)\n",
      "(2, 2, 'right', 1, 1)\n",
      "(1, 1, 'left', 2, 2)\n",
      "(0, 0, 'right', 3, 3)\n"
     ]
    }
   ],
   "source": [
    "# Function to check if a state is valid\n",
    "def is_valid(state):\n",
    "    m_left, c_left, b_pos, m_right, c_right = state\n",
    "    if m_left < 0 or c_left < 0 or m_right < 0 or c_right < 0:\n",
    "        return False\n",
    "    if m_left > 3 or c_left > 3 or m_right > 3 or c_right > 3:\n",
    "        return False\n",
    "    if (c_left > m_left > 0) or (c_right > m_right > 0):\n",
    "        return False\n",
    "    return True\n",
    "# Function to generate the next valid states from the current state\n",
    "def next_states(state):\n",
    "    m_left, c_left, b_pos, m_right, c_right = state\n",
    "    if b_pos == 'left':\n",
    "        moves = [(2, 0), (0, 2), (1, 1), (1, 0), (0, 1)]\n",
    "        next_states = [(m_left-m, c_left-c, 'right', m_right+m, c_right+c) for m, c in moves]\n",
    "    else:\n",
    "        moves = [(-2, 0), (0, -2), (-1, -1), (-1, 0), (0, -1)]\n",
    "        next_states = [(m_left+m, c_left+c, 'left', m_right-m, c_right-c) for m, c in moves]\n",
    "    return [state for state in next_states if is_valid(state)]\n",
    "# Depth-First Search algorithm with depth limit\n",
    "def dfs_limit(start_state, depth_limit):\n",
    "    frontier = []  # Use a stack for DFS\n",
    "    frontier.append([start_state])\n",
    "    explored = set()\n",
    "    while frontier:\n",
    "        path = frontier.pop()  # Pop the last element from the stack\n",
    "        current_state = path[-1]\n",
    "        if current_state == (0, 0, 'right', 3, 3):\n",
    "            return path\n",
    "        if len(path) <= depth_limit:  # Check depth limit\n",
    "            for next_state in next_states(current_state):\n",
    "                if next_state not in explored:\n",
    "                    new_path = path + [next_state]\n",
    "                    frontier.append(new_path)\n",
    "                    explored.add(next_state)\n",
    "    return None\n",
    "# Iterative Deepening Depth-First Search algorithm\n",
    "def iddfs(start_state):\n",
    "    depth_limit = 0\n",
    "    while True:\n",
    "        result = dfs_limit(start_state, depth_limit)\n",
    "        if result:\n",
    "            return result\n",
    "        depth_limit += 1\n",
    "# Testing the algorithm with the initial state (3, 3, 'left', 0, 0)\n",
    "start_state = (3, 3, 'left', 0, 0)\n",
    "path = iddfs(start_state)\n",
    "# Printing the path from the initial state to the goal state\n",
    "if path:\n",
    "    for state in path:\n",
    "        print(state)\n",
    "else:\n",
    "    print(\"No solution found.\") "
   ]
  },
  {
   "cell_type": "code",
   "execution_count": null,
   "metadata": {},
   "outputs": [],
   "source": []
  }
 ],
 "metadata": {
  "kernelspec": {
   "display_name": "Python 3",
   "language": "python",
   "name": "python3"
  },
  "language_info": {
   "codemirror_mode": {
    "name": "ipython",
    "version": 3
   },
   "file_extension": ".py",
   "mimetype": "text/x-python",
   "name": "python",
   "nbconvert_exporter": "python",
   "pygments_lexer": "ipython3",
   "version": "3.8.10"
  }
 },
 "nbformat": 4,
 "nbformat_minor": 4
}
